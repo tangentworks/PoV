{
 "cells": [
  {
   "cell_type": "markdown",
   "id": "549dce1a-dd4a-4c2a-a700-37c3a175e313",
   "metadata": {},
   "source": [
    "# ------------ TIM Python Client - KPI Driven Anomaly Detection ------------"
   ]
  },
  {
   "cell_type": "markdown",
   "id": "365dc574-2bd4-4f63-8759-a78069e988ed",
   "metadata": {},
   "source": [
    "# 0. Setup"
   ]
  },
  {
   "cell_type": "code",
   "execution_count": 2,
   "id": "7db8dd52-ed5c-4d18-8d51-2c1e94a1b6b8",
   "metadata": {},
   "outputs": [],
   "source": [
    "import pandas as pd\n",
    "import json\n",
    "import datetime as dt\n",
    "import numpy as np\n",
    "import plotly as plt\n",
    "import plotly.express as px\n",
    "import plotly.graph_objects as go\n",
    "import plotly.subplots as splt"
   ]
  },
  {
   "cell_type": "code",
   "execution_count": 3,
   "id": "b6d1b4f5-c0f0-4e1f-be42-8986ca6d6b15",
   "metadata": {},
   "outputs": [],
   "source": [
    "import tim\n",
    "client = tim.Tim(email='',password='',server='')"
   ]
  },
  {
   "cell_type": "code",
   "execution_count": 4,
   "id": "3f93fb24-74ed-4490-bf36-8bf7610f3d3d",
   "metadata": {},
   "outputs": [],
   "source": [
    "def call_tim_function(action,object_type,arguments=None):\n",
    "    functions = {\n",
    "        'list':{\n",
    "            'user_group':client.user_groups.list_user_group,\n",
    "            'workspace':client.workspaces.list_workspace,\n",
    "            'dataset':client.datasets.list_dataset,\n",
    "            'dataset_version':client.datasets.list_dataset_versions,\n",
    "            'use_case':client.use_cases.list_use_case,\n",
    "            'experiment':client.experiments.list_experiment\n",
    "        },\n",
    "        'create':{\n",
    "            'user_group':client.user_groups.create_user_group,\n",
    "            'workspace':client.workspaces.create_workspace,\n",
    "            'use_case':client.use_cases.create_use_case,\n",
    "            'experiment':client.experiments.create_experiment\n",
    "        }\n",
    "    }\n",
    "    response = functions[action][object_type](**arguments)\n",
    "    return response\n",
    "\n",
    "def create_tim_object_configuration(pipeline,object_type,parameters,name):\n",
    "    \n",
    "    if object_type=='user_group':\n",
    "        configuration = {\"name\": name,\"users\": [{\"id\": client.users.details_user()['id'],\"isOwner\": True}]}\n",
    "    if object_type=='workspace':\n",
    "        configuration = {\"name\": name,\"userGroup\": {\"id\": parameters['user_group_id']}}\n",
    "    if object_type=='dataset':\n",
    "        try:\n",
    "            versionName = pipeline['dataset_version']['name']\n",
    "        except:\n",
    "            versionName = 'initial upload'\n",
    "        configuration = {\"name\": name,\"workspace\": {\"id\": parameters['workspace_id']},\"versionName\":versionName}\n",
    "    if object_type=='dataset_version':\n",
    "        configuration = update_dataset_configuration = {\"versionName\": name}\n",
    "    if object_type=='use_case':\n",
    "        configuration = {\"name\": name,\"workspace\": {\"id\": parameters['workspace_id']},\"dataset\": {\"id\": parameters['dataset_id']}}\n",
    "    if object_type=='experiment':\n",
    "        configuration = {\"name\": name,\"useCase\": {\"id\": parameters['use_case_id']},\"type\": pipeline['experiment']['create']['type']}\n",
    "    return configuration\n",
    "\n",
    "def check_tim_object(pipeline,object_type,parameters):\n",
    "    try:\n",
    "        object_id = pipeline[object_type]['id']\n",
    "        print(object_type,'id available.')\n",
    "    except:\n",
    "        try:\n",
    "            object_name = pipeline[object_type]['name']\n",
    "            object_list = [f for f in call_tim_function('list',object_type,parameters) if f['name']==object_name]\n",
    "            tim_object = object_list[0]\n",
    "            object_id = tim_object['id']\n",
    "            print(object_type,'found by name.')\n",
    "        except:\n",
    "            try:\n",
    "                add_to_configuration = pipeline[object_type]['create']['configuration']\n",
    "                object_name = add_to_configuration['versionName'] if object_type == 'dataset_version' else add_to_configuration['name']\n",
    "                create_configuration = create_tim_object_configuration(pipeline,object_type,parameters,object_name)\n",
    "                object_configuration = {**add_to_configuration, **create_configuration}\n",
    "            except:\n",
    "                object_name = pipeline[object_type]['name'] \n",
    "                object_configuration = create_tim_object_configuration(pipeline,object_type,parameters,object_name)\n",
    "            if object_type == 'dataset':\n",
    "                tim_file = pipeline[object_type]['create']['file']\n",
    "                tim_upload = client.upload_dataset(\n",
    "                    dataset = tim_file,\n",
    "                    configuration = object_configuration,\n",
    "                    outputs = ['response'],\n",
    "                    status_poll = print,\n",
    "                    tries_left = 300\n",
    "                )\n",
    "                tim_object = tim_upload.response\n",
    "            elif object_type == 'dataset_version':\n",
    "                tim_file = pipeline[object_type]['create']['file']\n",
    "                tim_update = client.update_dataset(\n",
    "                    dataset_id = parameters['id'],\n",
    "                    dataset_version = tim_file,\n",
    "                    configuration = object_configuration,\n",
    "                    outputs = ['response'],\n",
    "                    status_poll = print,\n",
    "                    tries_left = 300\n",
    "                )\n",
    "                tim_object = tim_update.response['version']                \n",
    "            else:\n",
    "                tim_object = call_tim_function('create',object_type,{'configuration':object_configuration})\n",
    "            object_id = tim_object['id']\n",
    "            print(object_type,'created.')\n",
    "    return object_id\n",
    "\n",
    "def tim_pipeline_setup(pipeline):\n",
    "    try:\n",
    "        response = {'name':pipeline['name']}\n",
    "    except:\n",
    "        pass\n",
    "    try:\n",
    "        user_group_id = check_tim_object(pipeline=pipeline,object_type='user_group',parameters={})\n",
    "        response['user_group'] = user_group_id\n",
    "    except:\n",
    "        pass\n",
    "    try:\n",
    "        workspace_id = check_tim_object(pipeline=pipeline,object_type='workspace',parameters={'user_group_id':user_group_id})\n",
    "        response['workspace'] = workspace_id\n",
    "    except:\n",
    "        pass\n",
    "    dataset_id = check_tim_object(pipeline=pipeline,object_type='dataset',parameters={'workspace_id':workspace_id})\n",
    "    response['dataset'] = dataset_id\n",
    "    try:\n",
    "        dataset_version_id = check_tim_object(pipeline=pipeline,object_type='dataset_version',parameters={'id':dataset_id})\n",
    "        response['dataset_version'] = dataset_version_id\n",
    "    except:\n",
    "        pass\n",
    "    try:\n",
    "        use_case_id = check_tim_object(pipeline=pipeline,object_type='use_case',parameters={'workspace_id':workspace_id,'dataset_id':dataset_id})\n",
    "        response['use_case'] = use_case_id    \n",
    "    except:\n",
    "        pass\n",
    "    try:\n",
    "        experiment_id = check_tim_object(pipeline=pipeline,object_type='experiment',parameters={'use_case_id':use_case_id})\n",
    "        response['experiment'] = experiment_id   \n",
    "    except:\n",
    "        pass\n",
    "    return response"
   ]
  },
  {
   "cell_type": "markdown",
   "id": "7701754f-a632-4eba-bab1-0a67c0d44414",
   "metadata": {},
   "source": [
    "# 1. Data Preparation"
   ]
  },
  {
   "cell_type": "code",
   "execution_count": 5,
   "id": "d9289900-b763-4494-adb6-45885d319c7e",
   "metadata": {},
   "outputs": [
    {
     "name": "stdout",
     "output_type": "stream",
     "text": [
      "Index(['Datetime', 'Output', 'AmbientHumidity', 'AmbientTemperature',\n",
      "       'M1_RawMaterial_1', 'M1_RawMaterial_2', 'M1_RawMaterial_3',\n",
      "       'M1_RawMaterial_4', 'M1_RawMaterialFeeder', 'M1_Zone1_Temperature',\n",
      "       'M1_Zone2_Temperature', 'M1_MotorAmperage', 'M1_MotorRPM',\n",
      "       'M1_MaterialPressure', 'M1_MaterialTemperature',\n",
      "       'M1_ExitZoneTemperature', 'M2_RawMaterial_1', 'M2_RawMaterial_2',\n",
      "       'M2_RawMaterial_3', 'M2_RawMaterial_4', 'M2_RawMaterialFeeder',\n",
      "       'M2_Zone1_Temperature', 'M2_Zone2_Temperature', 'M2_MotorAmperage',\n",
      "       'M2_MotorRPM', 'M2_MaterialPressure', 'M2_MaterialTemperature',\n",
      "       'M2_ExitZoneTemperature', 'M3_RawMaterial_1', 'M3_RawMaterial_2',\n",
      "       'M3_RawMaterial_3', 'M3_RawMaterial_4', 'M3_RawMaterialFeeder',\n",
      "       'M3_Zone1_Temperature', 'M3_Zone2_Temperature', 'M3_MotorAmperage',\n",
      "       'M3_MotorRPM', 'M3_MaterialPressure', 'M3_MaterialTemperature',\n",
      "       'M3_ExitZoneTemperature', 'Stage_1_Temperature1',\n",
      "       'Stage_1_Temperature2', 'Stage_1_Temperature3'],\n",
      "      dtype='object')\n"
     ]
    }
   ],
   "source": [
    "csv_df = pd.read_csv('production_line.csv')\n",
    "print(csv_df.columns)"
   ]
  },
  {
   "cell_type": "code",
   "execution_count": 6,
   "id": "b7cdf68a-ce0c-429b-a85e-a6abd4fdfc3a",
   "metadata": {},
   "outputs": [],
   "source": [
    "tim_dataset = csv_df.copy()\n",
    "timestamp = 'Datetime'\n",
    "target = 'Output'\n",
    "predictors = [s for s in list(tim_dataset.columns) if s not in [timestamp,target]]\n",
    "tim_dataset = tim_dataset[[timestamp,target]+predictors].reset_index(drop=True)"
   ]
  },
  {
   "cell_type": "code",
   "execution_count": null,
   "id": "333ed2b2-08c5-4891-817b-3df0758c8f66",
   "metadata": {},
   "outputs": [],
   "source": [
    "v_data = tim_dataset.copy()\n",
    "fig = splt.make_subplots(rows=2, cols=1, shared_xaxes=True, vertical_spacing=0.02)\n",
    "fig.add_trace(go.Scatter(x=v_data[timestamp], y=v_data[target], name=target,connectgaps=True), row=1, col=1)\n",
    "for idx, p in enumerate(predictors): fig.add_trace(go.Scatter(x=v_data[timestamp], y=v_data[p], name=p,connectgaps=True), row=2, col=1)\n",
    "fig.update_layout(height=600, width=1200, title_text=\"Data visualization\")\n",
    "fig.show()    "
   ]
  },
  {
   "cell_type": "markdown",
   "id": "da646335-3765-4abc-bb48-dbd4451c00cb",
   "metadata": {},
   "source": [
    "# 2. TIM"
   ]
  },
  {
   "cell_type": "markdown",
   "id": "b54f07b1-e0c4-4ef2-a119-772b9053be2c",
   "metadata": {},
   "source": [
    "## 2.1 Workflow"
   ]
  },
  {
   "cell_type": "code",
   "execution_count": 7,
   "id": "c358292f-6952-472f-aad8-98cae3a4ac42",
   "metadata": {},
   "outputs": [
    {
     "name": "stdout",
     "output_type": "stream",
     "text": [
      "user_group found by name.\n",
      "workspace created.\n",
      "{'status': 'Running', 'progress': 0.0, 'createdAt': '2023-10-18T07:59:55.111Z'}\n",
      "{'status': 'Running', 'progress': 0.0, 'createdAt': '2023-10-18T07:59:55.111Z'}\n",
      "{'status': 'Running', 'progress': 0.0, 'createdAt': '2023-10-18T07:59:55.111Z'}\n",
      "{'status': 'Running', 'progress': 28.42, 'createdAt': '2023-10-18T07:59:55.111Z'}\n",
      "{'status': 'Running', 'progress': 86.98, 'createdAt': '2023-10-18T07:59:55.111Z'}\n",
      "{'status': 'Running', 'progress': 95.0, 'createdAt': '2023-10-18T07:59:55.111Z'}\n",
      "{'status': 'FinishedWithWarning', 'progress': 100.0, 'createdAt': '2023-10-18T07:59:55.111Z'}\n",
      "dataset created.\n",
      "use_case created.\n",
      "experiment created.\n"
     ]
    },
    {
     "data": {
      "text/plain": [
       "{'name': 'pipeline_1',\n",
       " 'user_group': '1dfc6ff1-06e2-4dcc-a58b-c09978ad79d1',\n",
       " 'workspace': 'dbca5351-4614-4109-84b9-a90b22311a26',\n",
       " 'dataset': 'ae35b57c-6e6f-4060-ba2b-b89da2c96043',\n",
       " 'use_case': '27450439-d6f2-4292-a7ee-e020ed9d903c',\n",
       " 'experiment': '8eb9eefd-aa77-4140-8dca-f17429f64e90'}"
      ]
     },
     "execution_count": 7,
     "metadata": {},
     "output_type": "execute_result"
    }
   ],
   "source": [
    "upload_dataset_configuration = {\n",
    "    # \"timestampColumn\": timestamp,\n",
    "    # \"groupKeys\": group_keys,\n",
    "    \"name\": \"production_line\"\n",
    "}\n",
    "# -----------------------------------------------------------------------------------------------------------------------\n",
    "user_group = {\n",
    "    # 'id':'135c50cd-e6ea-423e-ae2b-581564cb9cbc',\n",
    "    'name':'POV',\n",
    "    # 'create':{'configuration':create_user_group_configuration}\n",
    "}\n",
    "workspace = {\n",
    "    # 'id':'e3e34c8f-3864-4199-af4b-70366c6a79db',\n",
    "    'name':'Templates',\n",
    "    # 'create':{'configuration':create_workspace_configuration}\n",
    "}\n",
    "dataset = {\n",
    "    # 'id':'0c217702-6d7c-4349-9345-a5d8c9120881',\n",
    "    # 'name':upload_dataset_configuration['name'],\n",
    "    'create':{'configuration':upload_dataset_configuration,'file':tim_dataset}\n",
    "}\n",
    "dataset_version = {\n",
    "    # 'id':'03ea3953-3956-4155-8ad8-f3c95daadd5f',\n",
    "    # 'name':'panel_data_demo',\n",
    "    # 'create':{'configuration':update_dataset_configuration,'file':tim_dataset.tail(28)}\n",
    "}\n",
    "use_case = {\n",
    "    # 'id':'3b8ad8ce-8516-4ed4-a9e7-e891ed5e176c',\n",
    "    'name':'production_line',\n",
    "    # 'create':{'configuration':create_use_case_configuration}\n",
    "}\n",
    "experiment = {\n",
    "    # 'id':'bc82c706-be70-4726-8976-dbadf75e7385',\n",
    "    'name':'KPI Driven Anomaly Detection',\n",
    "    'create':{\n",
    "        # 'configuration':create_use_case_configuration,\n",
    "        'type':'AnomalyDetection'\n",
    "    }\n",
    "}\n",
    "# -----------------------------------------------------------------------------------------------------------------------\n",
    "pipeline_input = {\n",
    "    'name':'pipeline_1',\n",
    "    'user_group':user_group,\n",
    "    'workspace':workspace,\n",
    "    'dataset':dataset,\n",
    "    'dataset_version':dataset_version,\n",
    "    'use_case':use_case,\n",
    "    'experiment':experiment\n",
    "}\n",
    "# -----------------------------------------------------------------------------------------------------------------------\n",
    "pipeline_response = tim_pipeline_setup(pipeline=pipeline_input)\n",
    "pipeline_response"
   ]
  },
  {
   "cell_type": "code",
   "execution_count": 12,
   "id": "4d0ee6a0-6254-45f9-9a5f-bc61cc0cd10f",
   "metadata": {},
   "outputs": [],
   "source": [
    "dataset_id = pipeline_response['dataset']\n",
    "use_case_id = pipeline_response['use_case']\n",
    "experiment_id = pipeline_response['experiment']"
   ]
  },
  {
   "cell_type": "markdown",
   "id": "21cc7dce-4bb6-44a1-bf56-00d4d133e673",
   "metadata": {},
   "source": [
    "## 2.2 Model Building"
   ]
  },
  {
   "cell_type": "markdown",
   "id": "5dd0f5eb-e266-4f1a-96dc-236c265de5b9",
   "metadata": {},
   "source": [
    "### 2.2.1 Configuration"
   ]
  },
  {
   "cell_type": "code",
   "execution_count": 13,
   "id": "d637f780-a5d1-4252-8082-cc22af7af775",
   "metadata": {},
   "outputs": [],
   "source": [
    "in_sample_rows = int(len(tim_dataset)*2/3)"
   ]
  },
  {
   "cell_type": "code",
   "execution_count": 14,
   "id": "a0515ae5-9192-48e1-954b-259a9fccd009",
   "metadata": {},
   "outputs": [
    {
     "data": {
      "text/plain": [
       "{'useCase': {'id': '27450439-d6f2-4292-a7ee-e020ed9d903c'},\n",
       " 'experiment': {'id': '8eb9eefd-aa77-4140-8dca-f17429f64e90'},\n",
       " 'data': {'rows': {'type': 'First', 'baseUnit': 'Sample', 'value': 9392}}}"
      ]
     },
     "execution_count": 14,
     "metadata": {},
     "output_type": "execute_result"
    }
   ],
   "source": [
    "detection_build_kpi_model_configuration = {\n",
    "#     \"name\": \"My first anomaly build-model job\",\n",
    "    \"useCase\": {\"id\": use_case_id},\n",
    "    \"experiment\": {\"id\": experiment_id},\n",
    "#     \"configuration\": {\n",
    "#         \"domainSpecifics\": [\n",
    "#             {\n",
    "#                 \"perspective\": \"Residual\",\n",
    "#                 \"sensitivity\": 0,\n",
    "#                 \"minSensitivity\": 0,\n",
    "#                 \"maxSensitivity\": 0\n",
    "#             }\n",
    "#         ],\n",
    "#         \"normalBehaviorModel\": {\n",
    "#             \"useNormalBehaviorModel\": True,\n",
    "#             \"normalization\": True,\n",
    "#             \"maxModelComplexity\": 50,\n",
    "#             \"features\": [\n",
    "#                 \"ExponentialMovingAverage\",\n",
    "#                 \"TimeOffsets\",\n",
    "#                 \"Identity\",\n",
    "#                 \"Intercept\"\n",
    "#             ],\n",
    "#             \"dailyCycle\": true,\n",
    "#             \"useKPIoffsets\": true,\n",
    "#             \"allowOffsets\": true,\n",
    "#             \"offsetLimit\": {\"type\": \"Explicit\",\"value\": 0}\n",
    "#         },\n",
    "#         \"anomalousBehaviorModel\": {\n",
    "#             \"maxModelComplexity\": 15,\n",
    "#             \"detectionIntervals\": [\n",
    "#                 {\"type\": \"Hour\",\"value\": \"8-16\"}\n",
    "#             ]\n",
    "#         }\n",
    "#     },\n",
    "    \"data\": {\n",
    "#         \"version\": {\"id\": \"a74ae716-a86e-47f0-8a50-d8b21d6d7dd6\"},\n",
    "        \"rows\": {\"type\":\"First\",\"baseUnit\": \"Sample\",\"value\": in_sample_rows}, #{\"type\":\"Last\",\"baseUnit\": \"Sample\",\"value\": 1} or [{\"from\": \"yyyy-mm-dd HH:MM:SS\",\"to\": \"yyyy-mm-dd HH:MM:SS\"}]\n",
    "#         \"columns\": [\n",
    "#             1,\n",
    "#             3,\n",
    "#             \"wind_speed\"\n",
    "#         ],\n",
    "#         \"KPIColumn\": \"rotor_speed\",\n",
    "#         \"holidayColumn\": \"PH\",\n",
    "#         \"labelColumn\": \"LABEL\",\n",
    "#         \"imputation\": {\"type\": \"LOCF\",\"maxGapLength\": 6},\n",
    "#         \"timeScale\": {\"baseUnit\": \"Hour\",\"value\": 1},\n",
    "#         \"aggregation\": \"Mean\",\n",
    "#         \"updates\": [\n",
    "#             {\n",
    "#                 \"column\": \"wind_speed\",\n",
    "#                 \"updateTime\": [\n",
    "#                     {\"type\": \"Hour\",\"value\": \"1,12,23\"}\n",
    "#                 ],\n",
    "#                 \"updateUntil\": {\"baseUnit\": \"Hour\",\"offset\": -2}\n",
    "#             }\n",
    "#         ]\n",
    "    }\n",
    "}\n",
    "detection_build_kpi_model_configuration"
   ]
  },
  {
   "cell_type": "markdown",
   "id": "cf132d96-e78a-49b6-868b-b6fa1c2637d3",
   "metadata": {},
   "source": [
    "### 2.2.2 API Call"
   ]
  },
  {
   "cell_type": "code",
   "execution_count": 15,
   "id": "ab33304a-e93e-4794-88f5-354aee708211",
   "metadata": {},
   "outputs": [
    {
     "name": "stdout",
     "output_type": "stream",
     "text": [
      "{'status': 'Running', 'createdAt': '2023-10-18T08:01:26.010Z'}\n",
      "{'status': 'Running', 'progress': 6.5, 'CPU': 0.13, 'memory': 2413.0, 'createdAt': '2023-10-18T08:01:30.013Z'}\n",
      "{'status': 'Running', 'progress': 20.0, 'CPU': 0.13, 'memory': 2443.0, 'createdAt': '2023-10-18T08:01:32.325Z'}\n",
      "{'status': 'Running', 'progress': 60.0, 'CPU': 0.13, 'memory': 2493.0, 'createdAt': '2023-10-18T08:01:34.434Z'}\n",
      "{'status': 'Running', 'progress': 60.0, 'CPU': 0.13, 'memory': 2493.0, 'createdAt': '2023-10-18T08:01:34.434Z'}\n",
      "{'status': 'Running', 'progress': 77.5, 'CPU': 0.5, 'memory': 2523.0, 'createdAt': '2023-10-18T08:01:40.347Z'}\n",
      "{'status': 'Running', 'progress': 77.5, 'CPU': 0.5, 'memory': 2523.0, 'createdAt': '2023-10-18T08:01:40.347Z'}\n",
      "{'status': 'Finished', 'progress': 100.0, 'CPU': 0.5, 'memory': 2524.0, 'createdAt': '2023-10-18T08:01:43.805Z'}\n"
     ]
    }
   ],
   "source": [
    "detection_build_kpi_model = client.detection_build_kpi_model(\n",
    "    configuration = detection_build_kpi_model_configuration,\n",
    "    # dataset_id = dataset_id,\n",
    "    # execute = True,\n",
    "    # wait_to_finish = True,\n",
    "    outputs = [\n",
    "        'id',\n",
    "        'details',\n",
    "        'logs',\n",
    "        'status',\n",
    "        'table',\n",
    "        'model',\n",
    "        'accuracies'\n",
    "    ],\n",
    "    status_poll = print,\n",
    "    # tries_left = 300\n",
    " )"
   ]
  },
  {
   "cell_type": "code",
   "execution_count": 16,
   "id": "af8b7b79-6a86-49b4-a660-ceab87f9dcdc",
   "metadata": {},
   "outputs": [],
   "source": [
    "detection_build_kpi_model_id = detection_build_kpi_model.id\n",
    "detection_build_kpi_model_details = detection_build_kpi_model.details\n",
    "detection_build_kpi_model_logs = detection_build_kpi_model.logs\n",
    "detection_build_kpi_model_status = detection_build_kpi_model.status\n",
    "detection_build_kpi_model_table = detection_build_kpi_model.table\n",
    "detection_build_kpi_model_model = detection_build_kpi_model.model\n",
    "detection_build_kpi_model_accuracies = detection_build_kpi_model.accuracies"
   ]
  },
  {
   "cell_type": "markdown",
   "id": "dfefad87-0110-4196-b866-e01d485d4d9c",
   "metadata": {
    "tags": []
   },
   "source": [
    "## 2.3 Detection Inference"
   ]
  },
  {
   "cell_type": "markdown",
   "id": "e801cf90-7f94-4201-9a68-7f6b910256af",
   "metadata": {},
   "source": [
    "### 2.3.1 Configuration"
   ]
  },
  {
   "cell_type": "code",
   "execution_count": 17,
   "id": "1bd2b44e-f1a4-41ef-ab86-7e91b37daf09",
   "metadata": {},
   "outputs": [],
   "source": [
    "out_sample_rows = int(len(tim_dataset)-in_sample_rows)"
   ]
  },
  {
   "cell_type": "code",
   "execution_count": 18,
   "id": "dfd27491-38d9-4d47-9dfa-008b338958aa",
   "metadata": {},
   "outputs": [],
   "source": [
    "detection_detect_configuration = {\n",
    "#     \"name\": \"My first anomaly detect job\",\n",
    "    \"experiment\": {\"id\":experiment_id},\n",
    "    \"data\": {\n",
    "#         \"version\": {\"id\": \"a74ae716-a86e-47f0-8a50-d8b21d6d7dd6\"},\n",
    "        \"rows\": {\"type\":\"Last\",\"baseUnit\": \"Sample\",\"value\": out_sample_rows}, #{\"type\":\"Last\",\"baseUnit\": \"Sample\",\"value\": 1} or [{\"from\": \"yyyy-mm-dd HH:MM:SS\",\"to\": \"yyyy-mm-dd HH:MM:SS\"}]\n",
    "#         \"imputation\": {\"type\": \"LOCF\",\"maxGapLength\": 6}\n",
    "    }\n",
    "}"
   ]
  },
  {
   "cell_type": "markdown",
   "id": "a0d27b08-efbd-4567-9177-d2f5c01f732c",
   "metadata": {},
   "source": [
    "### 2.3.2 API Call"
   ]
  },
  {
   "cell_type": "code",
   "execution_count": 19,
   "id": "6f4bd5cd-1af6-4d27-9d1a-f76a1f29461f",
   "metadata": {},
   "outputs": [
    {
     "name": "stdout",
     "output_type": "stream",
     "text": [
      "{'status': 'Running', 'createdAt': '2023-10-18T08:01:54.465Z'}\n",
      "{'status': 'Running', 'progress': 16.0, 'CPU': 0.46, 'memory': 2520.0, 'createdAt': '2023-10-18T08:01:58.518Z'}\n",
      "{'status': 'Finished', 'progress': 100.0, 'CPU': 0.5, 'memory': 2522.0, 'createdAt': '2023-10-18T08:01:59.938Z'}\n"
     ]
    }
   ],
   "source": [
    "detection_detect = client.detection_detect(\n",
    "    parent_job_id = detection_build_kpi_model_id,\n",
    "    configuration = detection_detect_configuration,\n",
    "    # execute = True,\n",
    "    # wait_to_finish = True,\n",
    "    outputs = [\n",
    "        'id',\n",
    "        'details',\n",
    "        'logs',\n",
    "        'status',\n",
    "        'table',\n",
    "        'model',\n",
    "        'accuracies',\n",
    "        'production_table',  \n",
    "    ],\n",
    "    status_poll = print,\n",
    "    # tries_left = 300\n",
    " )"
   ]
  },
  {
   "cell_type": "code",
   "execution_count": 20,
   "id": "34abf08c-dfe8-40c3-95b7-56f141b40f33",
   "metadata": {},
   "outputs": [],
   "source": [
    "detection_detect_id = detection_detect.id\n",
    "detection_detect_details = detection_detect.details\n",
    "detection_detect_logs = detection_detect.logs\n",
    "detection_detect_status = detection_detect.status\n",
    "detection_detect_table = detection_detect.table\n",
    "detection_detect_model = detection_detect.model\n",
    "detection_detect_accuracies = detection_detect.accuracies\n",
    "detection_detect_production_table = detection_detect.production_table"
   ]
  },
  {
   "cell_type": "markdown",
   "id": "a265d67a-c4dd-41db-97a9-be3742fdb5bc",
   "metadata": {},
   "source": [
    "# 3. Results"
   ]
  },
  {
   "cell_type": "code",
   "execution_count": 21,
   "id": "045bc035-675e-4b9b-9bbe-1df36da08dd3",
   "metadata": {},
   "outputs": [],
   "source": [
    "properties_df = client.post_process.properties(detection_build_kpi_model_model)\n",
    "features_df = client.post_process.features(detection_build_kpi_model_model)\n",
    "model_logs_df = pd.DataFrame(detection_build_kpi_model_logs).sort_values(by='createdAt').reset_index(drop=True)\n",
    "detect_logs_df = pd.DataFrame(detection_detect_logs).sort_values(by='createdAt').reset_index(drop=True)"
   ]
  },
  {
   "cell_type": "markdown",
   "id": "1bc4b814-4e30-4077-9a8f-37f0bdd63840",
   "metadata": {},
   "source": [
    "## 3.1 Visual"
   ]
  },
  {
   "cell_type": "code",
   "execution_count": null,
   "id": "859cbce0-afc4-47b4-a693-b32117f5541e",
   "metadata": {},
   "outputs": [],
   "source": [
    "fig = splt.make_subplots(rows=2, cols=1, shared_xaxes=True, vertical_spacing=0.02)\n",
    "fig.add_trace(go.Scatter(x=tim_dataset[timestamp], y=tim_dataset[target], name=target, line=dict(color='black')), row=1, col=1)\n",
    "fig.add_trace(go.Scatter(x=detection_build_kpi_model_table['timestamp'], y=detection_build_kpi_model_table['normal_behavior'], name='InSample Normal Behavior', line=dict(color='goldenrod')), row=1, col=1)\n",
    "fig.add_trace(go.Scatter(x=detection_detect_table['timestamp'], y=detection_detect_table['normal_behavior'], name='OutOfSample Normal Behavior', line=dict(color='darkgoldenrod')), row=1, col=1)\n",
    "for ai in [f for f in detection_build_kpi_model_table.columns if 'anomaly_indicator' in f]:\n",
    "    fig.add_trace(go.Scatter(x=detection_build_kpi_model_table['timestamp'], y=detection_build_kpi_model_table[ai], name= ai.replace('anomaly_indicator_','')+' InSample'), row=2, col=1)\n",
    "    va = detection_build_kpi_model_table[detection_build_kpi_model_table[ai]>=1]\n",
    "    fig.add_trace(go.Scatter(x=va['timestamp'], y=va['kpi'], name=ai.replace('anomaly_indicator_','')+' anomaly inSample',mode='markers', line={'color': 'red'}), row=1, col=1)\n",
    "for ai in [f for f in detection_detect_table.columns if 'anomaly_indicator' in f]:\n",
    "    fig.add_trace(go.Scatter(x=detection_detect_table['timestamp'], y=detection_detect_table[ai], name= ai.replace('anomaly_indicator_','')+' OutOfSample'), row=2, col=1)\n",
    "    va = detection_detect_table[detection_detect_table[ai]>=1]\n",
    "    fig.add_trace(go.Scatter(x=va['timestamp'], y=va['kpi'], name=ai.replace('anomaly_indicator_','')+' anomaly outOfSample',mode='markers', line={'color': 'red'}), row=1, col=1)\n",
    "fig.add_hline(y=1, line_color=\"orange\", row=2, col=1)\n",
    "fig.update_layout(height=700, width=1400, title_text=\"Results\")\n",
    "fig.show()"
   ]
  },
  {
   "cell_type": "markdown",
   "id": "90100a33-b9f0-459c-b45e-0c7f0b8bfeae",
   "metadata": {},
   "source": [
    "## 3.2 Anomaly List"
   ]
  },
  {
   "cell_type": "code",
   "execution_count": 23,
   "id": "3736b7ee-b0d1-43a4-bd1d-0520781e3ee0",
   "metadata": {},
   "outputs": [
    {
     "data": {
      "text/html": [
       "<div>\n",
       "<style scoped>\n",
       "    .dataframe tbody tr th:only-of-type {\n",
       "        vertical-align: middle;\n",
       "    }\n",
       "\n",
       "    .dataframe tbody tr th {\n",
       "        vertical-align: top;\n",
       "    }\n",
       "\n",
       "    .dataframe thead th {\n",
       "        text-align: right;\n",
       "    }\n",
       "</style>\n",
       "<table border=\"1\" class=\"dataframe\">\n",
       "  <thead>\n",
       "    <tr style=\"text-align: right;\">\n",
       "      <th></th>\n",
       "      <th>timestamp</th>\n",
       "      <th>model_index</th>\n",
       "      <th>kpi</th>\n",
       "      <th>normal_behavior</th>\n",
       "      <th>anomaly</th>\n",
       "      <th>anomaly_indicator_residual</th>\n",
       "      <th>anomaly_indicator_imbalance</th>\n",
       "    </tr>\n",
       "  </thead>\n",
       "  <tbody>\n",
       "    <tr>\n",
       "      <th>638</th>\n",
       "      <td>2019-03-06 11:03:11</td>\n",
       "      <td>1.0</td>\n",
       "      <td>3.45</td>\n",
       "      <td>0.855126</td>\n",
       "      <td>1.0</td>\n",
       "      <td>1.212612</td>\n",
       "      <td>0.376316</td>\n",
       "    </tr>\n",
       "    <tr>\n",
       "      <th>1107</th>\n",
       "      <td>2019-03-06 11:11:01</td>\n",
       "      <td>1.0</td>\n",
       "      <td>0.00</td>\n",
       "      <td>3.555792</td>\n",
       "      <td>1.0</td>\n",
       "      <td>1.664308</td>\n",
       "      <td>0.212900</td>\n",
       "    </tr>\n",
       "    <tr>\n",
       "      <th>1109</th>\n",
       "      <td>2019-03-06 11:11:03</td>\n",
       "      <td>1.0</td>\n",
       "      <td>3.72</td>\n",
       "      <td>0.581634</td>\n",
       "      <td>1.0</td>\n",
       "      <td>1.222966</td>\n",
       "      <td>0.134751</td>\n",
       "    </tr>\n",
       "    <tr>\n",
       "      <th>1137</th>\n",
       "      <td>2019-03-06 11:11:31</td>\n",
       "      <td>1.0</td>\n",
       "      <td>3.18</td>\n",
       "      <td>1.353532</td>\n",
       "      <td>1.0</td>\n",
       "      <td>1.070858</td>\n",
       "      <td>0.584259</td>\n",
       "    </tr>\n",
       "    <tr>\n",
       "      <th>1756</th>\n",
       "      <td>2019-03-06 11:21:50</td>\n",
       "      <td>1.0</td>\n",
       "      <td>3.42</td>\n",
       "      <td>1.425940</td>\n",
       "      <td>1.0</td>\n",
       "      <td>1.069886</td>\n",
       "      <td>0.597299</td>\n",
       "    </tr>\n",
       "    <tr>\n",
       "      <th>...</th>\n",
       "      <td>...</td>\n",
       "      <td>...</td>\n",
       "      <td>...</td>\n",
       "      <td>...</td>\n",
       "      <td>...</td>\n",
       "      <td>...</td>\n",
       "      <td>...</td>\n",
       "    </tr>\n",
       "    <tr>\n",
       "      <th>4638</th>\n",
       "      <td>2019-03-06 14:46:30</td>\n",
       "      <td>1.0</td>\n",
       "      <td>3.42</td>\n",
       "      <td>3.127911</td>\n",
       "      <td>1.0</td>\n",
       "      <td>0.580257</td>\n",
       "      <td>1.022099</td>\n",
       "    </tr>\n",
       "    <tr>\n",
       "      <th>4639</th>\n",
       "      <td>2019-03-06 14:46:31</td>\n",
       "      <td>1.0</td>\n",
       "      <td>3.42</td>\n",
       "      <td>3.150170</td>\n",
       "      <td>1.0</td>\n",
       "      <td>0.524101</td>\n",
       "      <td>1.037345</td>\n",
       "    </tr>\n",
       "    <tr>\n",
       "      <th>4640</th>\n",
       "      <td>2019-03-06 14:46:32</td>\n",
       "      <td>1.0</td>\n",
       "      <td>3.38</td>\n",
       "      <td>3.146576</td>\n",
       "      <td>1.0</td>\n",
       "      <td>0.470794</td>\n",
       "      <td>1.043201</td>\n",
       "    </tr>\n",
       "    <tr>\n",
       "      <th>4641</th>\n",
       "      <td>2019-03-06 14:46:33</td>\n",
       "      <td>1.0</td>\n",
       "      <td>3.38</td>\n",
       "      <td>3.129912</td>\n",
       "      <td>1.0</td>\n",
       "      <td>0.488658</td>\n",
       "      <td>1.019313</td>\n",
       "    </tr>\n",
       "    <tr>\n",
       "      <th>4642</th>\n",
       "      <td>2019-03-06 14:46:34</td>\n",
       "      <td>1.0</td>\n",
       "      <td>3.36</td>\n",
       "      <td>3.125827</td>\n",
       "      <td>1.0</td>\n",
       "      <td>0.471355</td>\n",
       "      <td>1.003488</td>\n",
       "    </tr>\n",
       "  </tbody>\n",
       "</table>\n",
       "<p>61 rows × 7 columns</p>\n",
       "</div>"
      ],
      "text/plain": [
       "               timestamp  model_index   kpi  normal_behavior  anomaly  \\\n",
       "638  2019-03-06 11:03:11          1.0  3.45         0.855126      1.0   \n",
       "1107 2019-03-06 11:11:01          1.0  0.00         3.555792      1.0   \n",
       "1109 2019-03-06 11:11:03          1.0  3.72         0.581634      1.0   \n",
       "1137 2019-03-06 11:11:31          1.0  3.18         1.353532      1.0   \n",
       "1756 2019-03-06 11:21:50          1.0  3.42         1.425940      1.0   \n",
       "...                  ...          ...   ...              ...      ...   \n",
       "4638 2019-03-06 14:46:30          1.0  3.42         3.127911      1.0   \n",
       "4639 2019-03-06 14:46:31          1.0  3.42         3.150170      1.0   \n",
       "4640 2019-03-06 14:46:32          1.0  3.38         3.146576      1.0   \n",
       "4641 2019-03-06 14:46:33          1.0  3.38         3.129912      1.0   \n",
       "4642 2019-03-06 14:46:34          1.0  3.36         3.125827      1.0   \n",
       "\n",
       "      anomaly_indicator_residual  anomaly_indicator_imbalance  \n",
       "638                     1.212612                     0.376316  \n",
       "1107                    1.664308                     0.212900  \n",
       "1109                    1.222966                     0.134751  \n",
       "1137                    1.070858                     0.584259  \n",
       "1756                    1.069886                     0.597299  \n",
       "...                          ...                          ...  \n",
       "4638                    0.580257                     1.022099  \n",
       "4639                    0.524101                     1.037345  \n",
       "4640                    0.470794                     1.043201  \n",
       "4641                    0.488658                     1.019313  \n",
       "4642                    0.471355                     1.003488  \n",
       "\n",
       "[61 rows x 7 columns]"
      ]
     },
     "execution_count": 23,
     "metadata": {},
     "output_type": "execute_result"
    }
   ],
   "source": [
    "detection_table = pd.concat([detection_build_kpi_model_table,detection_detect_table])\n",
    "anomaly_list_df = detection_table[detection_table['anomaly_code'].isin([1,3])].copy().rename(columns={'anomaly_code':'anomaly'})\n",
    "anomaly_list_df['timestamp'] = pd.to_datetime(anomaly_list_df['timestamp'],format='%Y-%m-%dT%H:%M:%S.%fZ')\n",
    "anomaly_list_df"
   ]
  },
  {
   "cell_type": "markdown",
   "id": "37f85db1-479c-4b7e-9b2b-6144be0a74f9",
   "metadata": {},
   "source": [
    "## 3.3 Insights"
   ]
  },
  {
   "cell_type": "code",
   "execution_count": null,
   "id": "51c6a9d2-28dd-4eae-84bf-e39c495e8bc5",
   "metadata": {},
   "outputs": [],
   "source": [
    "fig1 = go.Figure(go.Bar(x=properties_df['name'], y=properties_df['rel_importance'],text=round(properties_df['rel_importance'],2),textposition='auto'))\n",
    "fig1.update_layout(height=500,width=1200,title_text='Predictor Importances',xaxis_title='name',yaxis_title='rel_importance')\n",
    "print('Predictors not used:'+str(list(set(predictors+[target])-set(list(properties_df['name'])))))\n",
    "fig1.show()"
   ]
  },
  {
   "cell_type": "code",
   "execution_count": null,
   "id": "ac1cd709-e2c1-4963-b72f-88f86596261c",
   "metadata": {},
   "outputs": [],
   "source": [
    "fig = px.sunburst(features_df, path=['Model','Feature'], values='importance',color='Feature')\n",
    "fig.update_layout(height=700,width=700,title_text='Feature Importances')\n",
    "fig.show()"
   ]
  },
  {
   "cell_type": "code",
   "execution_count": 26,
   "id": "4a649fb7-b8f6-4af6-a6e1-d2c0294cb229",
   "metadata": {},
   "outputs": [
    {
     "data": {
      "text/plain": [
       "[]"
      ]
     },
     "execution_count": 26,
     "metadata": {},
     "output_type": "execute_result"
    }
   ],
   "source": [
    "warnings = list(model_logs_df[model_logs_df['messageType'] == \"Warning\"]['message'])\n",
    "warnings"
   ]
  },
  {
   "cell_type": "code",
   "execution_count": null,
   "id": "e63dcf36-e44d-4e3c-a3b6-814f04f14ef7",
   "metadata": {},
   "outputs": [],
   "source": [
    "model_logs_df"
   ]
  },
  {
   "cell_type": "code",
   "execution_count": null,
   "id": "95de298a-e820-4934-bbe3-1c994a677b74",
   "metadata": {},
   "outputs": [],
   "source": [
    "detect_logs_df"
   ]
  }
 ],
 "metadata": {
  "kernelspec": {
   "display_name": "Python 3 (ipykernel)",
   "language": "python",
   "name": "python3"
  },
  "language_info": {
   "codemirror_mode": {
    "name": "ipython",
    "version": 3
   },
   "file_extension": ".py",
   "mimetype": "text/x-python",
   "name": "python",
   "nbconvert_exporter": "python",
   "pygments_lexer": "ipython3",
   "version": "3.11.5"
  }
 },
 "nbformat": 4,
 "nbformat_minor": 5
}
